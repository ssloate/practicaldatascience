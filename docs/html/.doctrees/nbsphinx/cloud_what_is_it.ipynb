{
 "cells": [
  {
   "cell_type": "markdown",
   "metadata": {},
   "source": [
    "# The Cloud\n",
    "\n",
    "It has become a bit of a trope on the internet to quip \"there is no cloud; it's just somebody else's computer.\" In fact, there are [even stickers to that effect](https://www.redbubble.com/i/sticker/there-is-no-cloud-it-s-just-someone-else-s-computer-by-geekgoods/48737406.EJUG5)! But while it is true that a a big part of the innovation of the cloud is allow you to rent hardware from somebody else without owning it yourself, what makes the cloud The Cloud is not just the ability to rent hardware, but also all the innovations in software that make it possible for (a) lots of computers in a data center to work together in concert, and (b) the resources of a giant data center to be divvied up among lots of separate users seamlessly."
   ]
  },
  {
   "cell_type": "markdown",
   "metadata": {},
   "source": [
    "## Why the Cloud is Complicated\n",
    "\n",
    "Perhaps no single innovation has been as central to the rise of the cloud as the software that makes it possible to carve up a single computer into lots of smaller Virtual Machines, each of which acts like a single, normal computer. This technology -- known as virtualization -- it means that if you go to amazon or microsoft and say that you want to rent a computer with 2 processing cores, 16 gigs of ram, and 100 gigabytes of hard drive space, Amazon/Microsoft doesn't have to go find a computer in their data center that has exactly those specifications. Instead, they can find any computer that has at least those resources available, and create a virtual machine on the computer that has access to exactly those resources. To you, this computer looks exactly like a single computer with those resources, but Amazon/Microsoft is free to allocate any other resources on that computer to other people by creating more virtual machines. All of these virtual machines can run on the same physical computer, but all of them are protected from one another, so users can only use exactly what they paid for, and have no way to interact with the other virtual machines on the same computer.\n",
    "\n",
    "But here's the problem with virtualization: it makes it possible to divide up big computers into little computers, but you can't combine several small computers into one super virtual machine. The reasons for this are a little bit technical, but the basic idea is that when multiple processes are running on the same computer, they can all see and manipulate the same data in memory; but when processes are running on different physical computers, they can only communicate with one another by sending messages across ethernet cables, a process that works very differently and is much much slower.\n",
    "\n",
    "As a result, if you want to use 200 processing cores to analyze a huge data set, you can't just request a single virtual machine with 200 cores, because nobody makes a single physical computer with 200 cores. Instead, you will have to rent lots of smaller virtual machine and set them up so that they can interact with each other to share the work using a tool like `dask`."
   ]
  },
  {
   "cell_type": "markdown",
   "metadata": {},
   "source": [
    "## The Cloud is Not Primarily for Data Analysis\n",
    "\n",
    "One thing that's important to understand about the cloud is that most people using it to do the type of work that you all want to do as a data analyst. Most people using the cloud are using it to provide some type of service to internet users. For these people, the role of the cloud is **to serve lots and lots of users, each of whom needs a little bit of processing power and to process a little bit of data.** For example, if you have a messaging app, you'll have lots of people regularly checking for and sending messages, but each of these interactions requires only a tiny amount of processor time, and will only involve moving a tiny amount of data. \n",
    "\n",
    "To be clear, this time of cloud computing isn't easy -- the really hard part is ensuring that all users can access a common database, so if someone posts a cat picture on Twitter in South Africa, someone in North Carolina can see it when they check their tweet stream. But *most* of the demands can easily be handled by having lots of very small virtual machines, each of which handles a few requests at a time. \n",
    "\n",
    "But data analysis is different: instead of lots and lots of users processing small bits of data, **data analysis usually entails a small number of users (often 1) trying to process *tons* of data all at once for a single calculation.** This, unfortunately, makes the fact that we can't use virtualization to create a single giant virtual machine a much, much bigger problem! \n",
    "\n",
    "And that also means you should be aware then when you google around for resources about cloud services, *most* cloud users don't have the same needs you will as a data analyst! So be careful when you pick which internet resources to use for learning about data analysis on the cloud."
   ]
  },
  {
   "cell_type": "markdown",
   "metadata": {},
   "source": [
    "## Components of the Cloud\n",
    "\n",
    "In the next set of readings and exercises, we'll be learning how -- in a specific sense -- we can setup virtual machines and `dask` clusters on the Microsoft Azure system. But for the moment, let's focus on *general* principles of cloud computing -- concepts that will apply whether you use Microsoft Azure, Amazon AWS, Google Cloud, or any other service. \n",
    "\n",
    "But if what follows starts to sound overwhelmingly complex, I encourage you to quickly jump ahead to [the page where we actually set up a dask cluster and do some computing](cloud_dask.ipynb) to see what this looks like in practice, where hopefully you will see that it's not nearly as bad as it seems like it's going to be. \n",
    "\n",
    "### Compute\n",
    "\n",
    "As a data analyst, there are two ways that you can approach doing your work on the cloud: the first is just to get a virtual machine with lots of resources and use it as a single machine; the second is to rent a lot of machines and use them together in a cluster.\n",
    "\n",
    "Getting a single large virtual machine is definitely the easier strategy if it works for your purposes. Working on a single virtual machine means you can use the normal programming practices you use on your personal computer. This makes these *great* choices if they work for your budget and provide the resources you need. I think *most* virtual machines top out at about 64 cores and about 256 gb of RAM, but bigger VMs do exist: Azure has some virtual machines that will go up to 128 cores and *start* at 480 GB RAM for about 3.60 an hour. You can see an [overview of Azure options and prices here (look under the high performance computing options)](https://azure.microsoft.com/en-us/pricing/details/virtual-machines/linux/). And you can also get virtual machines that have as many as four GPUs as well\n",
    "\n",
    "The second option is a cluster. \n",
    "\n",
    "**Cloud Costs**\n",
    "\n",
    "A key feature of the economics of cloud computing is that **you only pay for what you use.** If you are planning to actively use a computer 24/7 for years, in many ways it would probably be much cheaper to just buy the computer you want. But most of us only use our computers intermittently, and we only use them really intensely on rare occasions. \n",
    "\n",
    "Given that, it is often much cheaper to just rent a couple hundred cores when you actually need to do your intensive computing than buy a really top-of-the-line desktop computer you rarely actually use. Moreover, it is *often* (though no always!) the case that the couple hundred core cluster will not only be cheaper, but will probably get your job done much faster than that desktop computer ever could!\n",
    "\n",
    "### Storage\n",
    "\n",
    "The good news is that, at this point in your life, you only need to worry about Blob Containers. As we mentioned in our \"What is the Cloud\" tutorial, Cloud storage comes in different flavors, and Blob is the most flexible, as it can hold anything (BLOB standands for **B**inary **L**arge **OB**ject storage). So unless you have reason to do otherwise, just use Blob Containers. \n",
    "\n",
    "Other types on Azure, just so you know them, are:\n",
    "\n",
    "- **File storage**: similar to Blob. File storage supports certain file sharing protocols that people may have been using before they came to the cloud, so makes life easy for people moving to the cloud. But fewer features than BLOB, so almost surely not for you. *Sounds* like the storage that'd be most familiar to a normal computer user, but it's a trick. Use BLOB. \n",
    "- **Queue storage**: specialized storage for messaging services. \n",
    "- **Table storage**: What's known as a NoSQL database system.\n",
    "\n",
    "\n",
    "### Networking\n",
    "\n"
   ]
  },
  {
   "cell_type": "markdown",
   "metadata": {},
   "source": [
    "## A Final Note on Complexity\n",
    "\n",
    "A final note on complexity: because the Cloud is used for *so many* different purposes, and by such different users (everything from small businesses to Twitter and Netflix), it is almost infinitely configurable. If you want, you can just rent dedicated control of a couple physical computers, and not only control them, but also control all the network systems that connect them at the lowest level possible. \n",
    "\n",
    "In these tutorials, though, I'm going to assume you're an applied data scientist interested in analysis, and so I'm gonna do my very, *very* best to provide the smoothest on-ramp to these services as I can. I'll show you only what I think you need to know to feel comfortable using the tools you're using and to have a somewhat generalizable understanding of what's going on (so if things change a little in the future, you don't feel lost) without getting into the infinite possibilities of the cloud. \n",
    "\n",
    "In addition, I will do my best to use the tools you already know as much as possible: Python, pandas, and dask. Services like Amazon AWS and Microsoft Azure have all sorts of specialty tools for machine learning, and some day you may decide that you prefer those to what I'm gonna show you. But I'm a firm believer in minimizing the number of tools you need to learn, so I'll try and keep things as focused as I can. \n",
    "\n",
    "Finally, if, when you're done, you say \"BUT I WANT TO CONFIGURE MY OWN VIRTUAL NETWORK AND DOCKER IMAGES AND KUBERNETES CONFIGURATIONS!\" (don't worry, none of that should mean anything to you), then good for you! The internet is *full* of in depth tutorials on those things. But if you just want to start using the Cloud to manipulation your data, then *hopefully* by the end of this section, you'll feel good to go!"
   ]
  }
 ],
 "metadata": {
  "kernelspec": {
   "display_name": "Python 3",
   "language": "python",
   "name": "python3"
  },
  "language_info": {
   "codemirror_mode": {
    "name": "ipython",
    "version": 3
   },
   "file_extension": ".py",
   "mimetype": "text/x-python",
   "name": "python",
   "nbconvert_exporter": "python",
   "pygments_lexer": "ipython3",
   "version": "3.7.8"
  }
 },
 "nbformat": 4,
 "nbformat_minor": 4
}
